{
 "cells": [
  {
   "cell_type": "code",
   "execution_count": null,
   "id": "a151256b-b764-4476-b254-413ac16d1192",
   "metadata": {},
   "outputs": [],
   "source": []
  }
 ],
 "metadata": {
  "kernelspec": {
   "display_name": "",
   "name": ""
  },
  "language_info": {
   "name": ""
  }
 },
 "nbformat": 4,
 "nbformat_minor": 5
}
